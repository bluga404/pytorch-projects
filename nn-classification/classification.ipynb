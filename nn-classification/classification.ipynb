{
 "cells": [
  {
   "cell_type": "markdown",
   "id": "9b1acea0",
   "metadata": {},
   "source": [
    "# Architecture of a Classification Neural Network\n",
    "This model can built in almmost any shape or size. But typically, they have a same floor plan (input layer -> one or more hidden layers -> output layer).\n",
    "\n",
    "Before writing code, this is the general architecture of a classification neural network.\n",
    "\n",
    "| **Hyperparameter** | **Binary Classification** | **Multiclass Classification** |\n",
    "| --- | --- | --- |\n",
    "| **Input layer shape** (`in_features`) | Same as number of features (e.g., 5 for age, sex, height, weight, smoking status in heart disease prediction) | Same as binary classification |\n",
    "| **Hidden layer(s)** | Problem specific, minimum = 1, maximum = unlimited | Same as binary classification |\n",
    "| **Neurons per hidden layer** | Problem specific, generally 10–512 | Same as binary classification |\n",
    "| **Output layer shape** (`out_features`) | 1 (one class or the other) | 1 per class (e.g., 3 for food, person, or dog photo) |\n",
    "| **Hidden layer activation** | Usually [ReLU](https://pytorch.org/docs/stable/generated/torch.nn.ReLU.html#torch.nn.ReLU) (rectified linear unit), but [can be many others](https://en.wikipedia.org/wiki/Activation_function#Table_of_activation_functions) | Same as binary classification |\n",
    "| **Output activation** | [Sigmoid](https://en.wikipedia.org/wiki/Sigmoid_function) ([`torch.sigmoid`](https://pytorch.org/docs/stable/generated/torch.sigmoid.html) in PyTorch) | [Softmax](https://en.wikipedia.org/wiki/Softmax_function) ([`torch.softmax`](https://pytorch.org/docs/stable/generated/torch.nn.Softmax.html) in PyTorch) |\n",
    "| **Loss function** | [Binary Cross Entropy](https://en.wikipedia.org/wiki/Cross_entropy#Cross-entropy_loss_function_and_logistic_regression) ([`torch.nn.BCELoss`](https://pytorch.org/docs/stable/generated/torch.nn.BCELoss.html)) | [Cross Entropy](https://pytorch.org/docs/stable/generated/torch.nn.CrossEntropyLoss.html) ([`torch.nn.CrossEntropyLoss`](https://pytorch.org/docs/stable/generated/torch.nn.CrossEntropyLoss.html)) |\n",
    "| **Optimizer** | [SGD](https://pytorch.org/docs/stable/generated/torch.optim.SGD.html) (Stochastic Gradient Descent), [Adam](https://pytorch.org/docs/stable/generated/torch.optim.Adam.html) — see [`torch.optim`](https://pytorch.org/docs/stable/optim.html) for more options | Same as binary classification |"
   ]
  },
  {
   "cell_type": "markdown",
   "id": "92de69ae",
   "metadata": {},
   "source": [
    "## 1. Make classification data and get it ready"
   ]
  },
  {
   "cell_type": "code",
   "execution_count": 1,
   "id": "65f9a025",
   "metadata": {},
   "outputs": [],
   "source": [
    "from sklearn.datasets import make_circles\n",
    "\n",
    "# Create 1000 samples\n",
    "n_samples = 1000\n",
    "\n",
    "# Create Circles\n",
    "X, y = make_circles(n_samples,\n",
    "                    noise=0.03,        # noise to the dots\n",
    "                    random_state=42)   # reproducibility"
   ]
  },
  {
   "cell_type": "code",
   "execution_count": 2,
   "id": "4058ee9a",
   "metadata": {},
   "outputs": [
    {
     "name": "stdout",
     "output_type": "stream",
     "text": [
      "First 5 values of feature X:\n",
      "[[ 0.75424625  0.23148074]\n",
      " [-0.75615888  0.15325888]\n",
      " [-0.81539193  0.17328203]\n",
      " [-0.39373073  0.69288277]\n",
      " [ 0.44220765 -0.89672343]]\n",
      "\n",
      "First 5 values of label y:\n",
      "[1 1 1 1 0]\n"
     ]
    }
   ],
   "source": [
    "print(f\"First 5 values of feature X:\\n{X[:5]}\")\n",
    "print(f\"\\nFirst 5 values of label y:\\n{y[:5]}\")"
   ]
  },
  {
   "cell_type": "code",
   "execution_count": 3,
   "id": "ddf2163f",
   "metadata": {},
   "outputs": [
    {
     "data": {
      "text/html": [
       "<div>\n",
       "<style scoped>\n",
       "    .dataframe tbody tr th:only-of-type {\n",
       "        vertical-align: middle;\n",
       "    }\n",
       "\n",
       "    .dataframe tbody tr th {\n",
       "        vertical-align: top;\n",
       "    }\n",
       "\n",
       "    .dataframe thead th {\n",
       "        text-align: right;\n",
       "    }\n",
       "</style>\n",
       "<table border=\"1\" class=\"dataframe\">\n",
       "  <thead>\n",
       "    <tr style=\"text-align: right;\">\n",
       "      <th></th>\n",
       "      <th>X1</th>\n",
       "      <th>X2</th>\n",
       "      <th>label</th>\n",
       "    </tr>\n",
       "  </thead>\n",
       "  <tbody>\n",
       "    <tr>\n",
       "      <th>0</th>\n",
       "      <td>0.754246</td>\n",
       "      <td>0.231481</td>\n",
       "      <td>1</td>\n",
       "    </tr>\n",
       "    <tr>\n",
       "      <th>1</th>\n",
       "      <td>-0.756159</td>\n",
       "      <td>0.153259</td>\n",
       "      <td>1</td>\n",
       "    </tr>\n",
       "    <tr>\n",
       "      <th>2</th>\n",
       "      <td>-0.815392</td>\n",
       "      <td>0.173282</td>\n",
       "      <td>1</td>\n",
       "    </tr>\n",
       "    <tr>\n",
       "      <th>3</th>\n",
       "      <td>-0.393731</td>\n",
       "      <td>0.692883</td>\n",
       "      <td>1</td>\n",
       "    </tr>\n",
       "    <tr>\n",
       "      <th>4</th>\n",
       "      <td>0.442208</td>\n",
       "      <td>-0.896723</td>\n",
       "      <td>0</td>\n",
       "    </tr>\n",
       "    <tr>\n",
       "      <th>5</th>\n",
       "      <td>-0.479646</td>\n",
       "      <td>0.676435</td>\n",
       "      <td>1</td>\n",
       "    </tr>\n",
       "    <tr>\n",
       "      <th>6</th>\n",
       "      <td>-0.013648</td>\n",
       "      <td>0.803349</td>\n",
       "      <td>1</td>\n",
       "    </tr>\n",
       "    <tr>\n",
       "      <th>7</th>\n",
       "      <td>0.771513</td>\n",
       "      <td>0.147760</td>\n",
       "      <td>1</td>\n",
       "    </tr>\n",
       "    <tr>\n",
       "      <th>8</th>\n",
       "      <td>-0.169322</td>\n",
       "      <td>-0.793456</td>\n",
       "      <td>1</td>\n",
       "    </tr>\n",
       "    <tr>\n",
       "      <th>9</th>\n",
       "      <td>-0.121486</td>\n",
       "      <td>1.021509</td>\n",
       "      <td>0</td>\n",
       "    </tr>\n",
       "  </tbody>\n",
       "</table>\n",
       "</div>"
      ],
      "text/plain": [
       "         X1        X2  label\n",
       "0  0.754246  0.231481      1\n",
       "1 -0.756159  0.153259      1\n",
       "2 -0.815392  0.173282      1\n",
       "3 -0.393731  0.692883      1\n",
       "4  0.442208 -0.896723      0\n",
       "5 -0.479646  0.676435      1\n",
       "6 -0.013648  0.803349      1\n",
       "7  0.771513  0.147760      1\n",
       "8 -0.169322 -0.793456      1\n",
       "9 -0.121486  1.021509      0"
      ]
     },
     "execution_count": 3,
     "metadata": {},
     "output_type": "execute_result"
    }
   ],
   "source": [
    "# There are 2 Xs for 1 y\n",
    "# Create a dataframe using X and y (X[:0] for X1, X[:1] for X2, label for y)\n",
    "# visualize, visualize, visualize\n",
    "import pandas as pd\n",
    "\n",
    "circles = pd.DataFrame({\n",
    "    'X1': X[:,0],\n",
    "    'X2': X[:,1],\n",
    "    'label': y,\n",
    "})\n",
    "\n",
    "circles.head(10)"
   ]
  },
  {
   "cell_type": "code",
   "execution_count": 4,
   "id": "5b423020",
   "metadata": {},
   "outputs": [
    {
     "data": {
      "text/plain": [
       "label\n",
       "1    500\n",
       "0    500\n",
       "Name: count, dtype: int64"
      ]
     },
     "execution_count": 4,
     "metadata": {},
     "output_type": "execute_result"
    }
   ],
   "source": [
    "# label are 0 and 1, this tells us that our case i binary classification (two options)\n",
    "# Check label \n",
    "circles.label.value_counts()"
   ]
  },
  {
   "cell_type": "code",
   "execution_count": 5,
   "id": "85618cdd",
   "metadata": {},
   "outputs": [
    {
     "data": {
      "text/plain": [
       "<matplotlib.collections.PathCollection at 0x22e1b11d110>"
      ]
     },
     "execution_count": 5,
     "metadata": {},
     "output_type": "execute_result"
    },
    {
     "data": {
      "image/png": "[encoded data removed]",
      "text/plain": [
       "<Figure size 640x480 with 1 Axes>"
      ]
     },
     "metadata": {},
     "output_type": "display_data"
    }
   ],
   "source": [
    "# balance like cash flow haha, \n",
    "# it is time to plot the data!\n",
    "import matplotlib.pyplot as plt\n",
    "\n",
    "plt.scatter(x=X[:, 0],\n",
    "            y=X[:, 1],\n",
    "            c=y,\n",
    "            cmap=plt.cm.RdYlBu)"
   ]
  },
  {
   "cell_type": "markdown",
   "id": "97136797",
   "metadata": {},
   "source": [
    "### 1.1 Input and Output shapes"
   ]
  },
  {
   "cell_type": "code",
   "execution_count": 6,
   "id": "17abc571",
   "metadata": {},
   "outputs": [
    {
     "data": {
      "text/plain": [
       "((1000, 2), (1000,))"
      ]
     },
     "execution_count": 6,
     "metadata": {},
     "output_type": "execute_result"
    }
   ],
   "source": [
    "# Always ask yourself \"What shapes are my inputs and what shapes are my outputs?\"\n",
    "# And don't forget to check it \n",
    "X.shape, y.shape"
   ]
  },
  {
   "cell_type": "code",
   "execution_count": 7,
   "id": "9239c1ce",
   "metadata": {},
   "outputs": [
    {
     "name": "stdout",
     "output_type": "stream",
     "text": [
      "Values for one sample of X: [0.75424625 0.23148074] and the same for y: 1\n",
      "Shapes for one sample of X: (2,) and the same for y: ()\n"
     ]
    }
   ],
   "source": [
    "# View the first example of features and labels\n",
    "X_sample = X[0]\n",
    "y_sample = y[0]\n",
    "print(f\"Values for one sample of X: {X_sample} and the same for y: {y_sample}\")\n",
    "print(f\"Shapes for one sample of X: {X_sample.shape} and the same for y: {y_sample.shape}\")"
   ]
  },
  {
   "cell_type": "markdown",
   "id": "2f29609a",
   "metadata": {},
   "source": [
    "- X_sample is a vector with 2 features \n",
    "- y_sample is scalar because it only has 1 feature\n",
    "- model will receive 2 input features dan generate 1 label\n",
    "- ``` Input (X): [feature_1, feature_2]  -->  Output (y): label ```\n",
    "- ``` Input layer: 2 neuron  →  Output layer: 1 neuron ```"
   ]
  },
  {
   "cell_type": "markdown",
   "id": "31f9f154",
   "metadata": {},
   "source": [
    "### 1.2 Turn data into tensors and create train and test splits"
   ]
  },
  {
   "cell_type": "code",
   "execution_count": 8,
   "id": "f2b2dea2",
   "metadata": {},
   "outputs": [
    {
     "data": {
      "text/plain": [
       "(tensor([[ 0.7542,  0.2315],\n",
       "         [-0.7562,  0.1533],\n",
       "         [-0.8154,  0.1733],\n",
       "         [-0.3937,  0.6929],\n",
       "         [ 0.4422, -0.8967]]),\n",
       " tensor([1., 1., 1., 1., 0.]))"
      ]
     },
     "execution_count": 8,
     "metadata": {},
     "output_type": "execute_result"
    }
   ],
   "source": [
    "# Turn data indo tensors\n",
    "# Otherwise this causes issues with computations later on \n",
    "import torch\n",
    "\n",
    "X = torch.from_numpy(X).type(torch.float)\n",
    "y = torch.from_numpy(y).type(torch.float)\n",
    "\n",
    "# Display first 5 values of tensor X and y\n",
    "X[:5], y[:5]"
   ]
  },
  {
   "cell_type": "code",
   "execution_count": 9,
   "id": "a39300ce",
   "metadata": {},
   "outputs": [
    {
     "data": {
      "text/plain": [
       "(800, 200, 800, 200)"
      ]
     },
     "execution_count": 9,
     "metadata": {},
     "output_type": "execute_result"
    }
   ],
   "source": [
    "# Split data into train and test sets\n",
    "from sklearn.model_selection import train_test_split\n",
    "\n",
    "X_train, y_train, X_test, y_test = train_test_split(X,\n",
    "                                                    y,\n",
    "                                                    test_size=0.2,\n",
    "                                                    random_state=42)\n",
    "\n",
    "len(X_train), len(y_train), len(X_test), len(y_test)"
   ]
  },
  {
   "cell_type": "markdown",
   "id": "5c121471",
   "metadata": {},
   "source": [
    "## Building a model"
   ]
  },
  {
   "cell_type": "code",
   "execution_count": 10,
   "id": "f3359fec",
   "metadata": {},
   "outputs": [
    {
     "data": {
      "text/plain": [
       "'cpu'"
      ]
     },
     "execution_count": 10,
     "metadata": {},
     "output_type": "execute_result"
    }
   ],
   "source": [
    "# Standard PyTorch imports \n",
    "from torch import nn \n",
    "\n",
    "# Make device agnostic code\n",
    "# So our model can run on CPU and GPU if it's available\n",
    "device = \"cuda\" if torch.cuda.is_available() else \"cpu\"\n",
    "device"
   ]
  },
  {
   "cell_type": "code",
   "execution_count": null,
   "id": "933f2f27",
   "metadata": {},
   "outputs": [
    {
     "data": {
      "text/plain": [
       "CircleModelV0(\n",
       "  (layer_1): Linear(in_features=2, out_features=5, bias=True)\n",
       "  (layer_2): Linear(in_features=5, out_features=1, bias=True)\n",
       ")"
      ]
     },
     "execution_count": 13,
     "metadata": {},
     "output_type": "execute_result"
    }
   ],
   "source": [
    "# 1. Construct a model class that subclasses nn.Module\n",
    "class CircleModelV0(nn.Module):\n",
    "    def __init__(self):\n",
    "        super().__init__()\n",
    "        # 2. Create 2 nn.Linear layers capable of handling X and y input and output shapes\n",
    "        self.layer_1 = nn.Linear(in_features=2, out_features=5) # takes in 2 features (X), produces 5 features (5 hidden units/neurons)\n",
    "        self.layer_2 = nn.Linear(in_features=5, out_features=1) # takes in 5 features, produces 1 feature (y)\n",
    "    \n",
    "    # 3. Define a forward method containing the forward pass computation \n",
    "    def forward(self, x):\n",
    "        # Return the output of layer_2, a scalar, same shape as y\n",
    "        return self.layer_2(self.layer_1(x)) # Computation goes through layer_1 first, then the output of layer_1 goes to layer_2\n",
    "\n",
    "# 4. Create an instance of the model and send it to target device \n",
    "model_0 = CircleModelV0().to(device)\n",
    "model_0"
   ]
  },
  {
   "cell_type": "markdown",
   "id": "462fd53a",
   "metadata": {},
   "source": [
    "- 5 features produced from layer_1 potentially leading to a better outputs rather than just 2 numbers\n",
    "- potentially because sometimes it doesn't work hahaha\n",
    "- The only rule with hidden units is that the next layer, in our case, self.layer_2 has to take the same in_features as the previous layer out_features."
   ]
  },
  {
   "cell_type": "markdown",
   "id": "a4cf332a",
   "metadata": {},
   "source": [
    "# Getting Binary Classification Data Ready\n",
    "For starter purpose, we will create a simple binary classification dataset. But remember, for deep learning, input can be almost anything."
   ]
  },
  {
   "cell_type": "code",
   "execution_count": null,
   "id": "5ff84f0e",
   "metadata": {},
   "outputs": [],
   "source": [
    "//"
   ]
  },
  {
   "cell_type": "markdown",
   "id": "d29cb544",
   "metadata": {},
   "source": [
    "# Architecture of a Classification Neural Network\n",
    "This model can built in almmost any shape or size. But typically, they have a sam floor plan (input layer -> one or more hidden layers -> output layer)."
   ]
  },
  {
   "cell_type": "markdown",
   "id": "fc4e6199",
   "metadata": {},
   "source": [
    "# Architecture of a Classification Neural Network\n",
    "This model can built in almmost any shape or size. But typically, they have a sam floor plan (input layer -> one or more hidden layers -> output layer)."
   ]
  },
  {
   "cell_type": "markdown",
   "id": "c4f51f6a",
   "metadata": {},
   "source": [
    "# Architecture of a Classification Neural Network\n",
    "This model can built in almmost any shape or size. But typically, they have a sam floor plan (input layer -> one or more hidden layers -> output layer)."
   ]
  },
  {
   "cell_type": "markdown",
   "id": "663cb2f3",
   "metadata": {},
   "source": [
    "# Architecture of a Classification Neural Network\n",
    "This model can built in almmost any shape or size. But typically, they have a sam floor plan (input layer -> one or more hidden layers -> output layer)."
   ]
  },
  {
   "cell_type": "markdown",
   "id": "ffbf522b",
   "metadata": {},
   "source": [
    "# Architecture of a Classification Neural Network\n",
    "This model can built in almmost any shape or size. But typically, they have a sam floor plan (input layer -> one or more hidden layers -> output layer)."
   ]
  },
  {
   "cell_type": "markdown",
   "id": "56d43aac",
   "metadata": {},
   "source": [
    "# Architecture of a Classification Neural Network\n",
    "This model can built in almmost any shape or size. But typically, they have a sam floor plan (input layer -> one or more hidden layers -> output layer)."
   ]
  },
  {
   "cell_type": "markdown",
   "id": "0fd86db7",
   "metadata": {},
   "source": [
    "# Architecture of a Classification Neural Network\n",
    "This model can built in almmost any shape or size. But typically, they have a sam floor plan (input layer -> one or more hidden layers -> output layer)."
   ]
  }
 ],
 "metadata": {
  "kernelspec": {
   "display_name": "pytorch",
   "language": "python",
   "name": "python3"
  },
  "language_info": {
   "codemirror_mode": {
    "name": "ipython",
    "version": 3
   },
   "file_extension": ".py",
   "mimetype": "text/x-python",
   "name": "python",
   "nbconvert_exporter": "python",
   "pygments_lexer": "ipython3",
   "version": "3.11.14"
  }
 },
 "nbformat": 4,
 "nbformat_minor": 5
}
